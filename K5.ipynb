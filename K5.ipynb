{
  "cells": [
    {
      "cell_type": "markdown",
      "metadata": {},
      "source": [
        "# Operadores aritméticos"
      ]
    },
    {
      "cell_type": "markdown",
      "metadata": {},
      "source": [
        "# Tierra (149.597.870 km) y Júpiter (778.547.200 km).\n",
        "\n"
      ]
    },
    {
      "cell_type": "code",
      "execution_count": 4,
      "metadata": {},
      "outputs": [
        {
          "name": "stdout",
          "output_type": "stream",
          "text": [
            "628949330\n",
            "390577533.93\n"
          ]
        }
      ],
      "source": [
        "first_planet = 149597870\n",
        "second_planet = 778547200\n",
        "\n",
        "distance_km = second_planet - first_planet\n",
        "print(distance_km)\n",
        "\n",
        "distance_mi = distance_km * 0.621\n",
        "print(distance_mi)"
      ]
    },
    {
      "cell_type": "markdown",
      "metadata": {},
      "source": [
        "# Cadenas en números "
      ]
    },
    {
      "cell_type": "code",
      "execution_count": 2,
      "metadata": {},
      "outputs": [],
      "source": [
        "first_planet = input('Enter the distance from the sun for the first planet in KM')\n",
        "second_planet = input('Enter the distance from the sun for the second planet in KM')"
      ]
    },
    {
      "cell_type": "markdown",
      "metadata": {},
      "source": [
        "### Convertir a número\n"
      ]
    },
    {
      "cell_type": "code",
      "execution_count": 3,
      "metadata": {},
      "outputs": [],
      "source": [
        "first_planet = int(first_planet)\n",
        "second_planet = int(second_planet)"
      ]
    },
    {
      "cell_type": "markdown",
      "metadata": {},
      "source": [
        "### Cálculo y convertir a valor absoluto\n"
      ]
    },
    {
      "cell_type": "code",
      "execution_count": 4,
      "metadata": {},
      "outputs": [
        {
          "name": "stdout",
          "output_type": "stream",
          "text": [
            "628949330\n",
            "390577533.93\n"
          ]
        }
      ],
      "source": [
        "distance_km = second_planet - first_planet\n",
        "print(distance_km)\n",
        "\n",
        "# Convertir de KM a Millas\n",
        "distance_mi = distance_km * 0.621\n",
        "print(abs(distance_mi))"
      ]
    },
    {
      "cell_type": "markdown",
      "metadata": {},
      "source": [
        "### Prueba tu aplicación\n",
        "Para probar el proyecto, ejecuta tu notebook. En la parte superior de vscode surgirá un cuadro de diálogo para que proporciones las distancias. Puede utilizar los datos de la tabla siguiente:\n",
        "\n",
        "| Planeta  | Distancia al sol |\n",
        "| ------- | ----------------- |\n",
        "| Mercurio | 57900000          |\n",
        "| Venus   | 108200000         |\n",
        "| Tierra   | 149600000         |\n",
        "| Marte    | 227900000         |\n",
        "| Júpiter | 778600000         |\n",
        "| Saturno  | 1433500000        |\n",
        "| Urano  | 2872500000        |\n",
        "| Neptuno | 4495100000        |"
      ]
    }
  ],
  "metadata": {
    "interpreter": {
      "hash": "502cd6c3b6c9e666d195e1caff9d64ea12bf644e547a4c8fae84812082c54b6f"
    },
    "kernel_info": {
      "name": "conda-env-py37_default-py"
    },
    "kernelspec": {
      "display_name": "py37_default",
      "language": "python",
      "name": "python3"
    },
    "language_info": {
      "codemirror_mode": {
        "name": "ipython",
        "version": 3
      },
      "file_extension": ".py",
      "mimetype": "text/x-python",
      "name": "python",
      "nbconvert_exporter": "python",
      "pygments_lexer": "ipython3",
      "version": "3.10.2"
    },
    "nteract": {
      "version": "nteract-front-end@1.0.0"
    },
    "orig_nbformat": 4
  },
  "nbformat": 4,
  "nbformat_minor": 2
}
